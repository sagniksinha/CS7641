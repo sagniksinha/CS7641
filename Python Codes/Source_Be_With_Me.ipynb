{
 "cells": [
  {
   "cell_type": "code",
   "execution_count": 3,
   "id": "6de125f3",
   "metadata": {},
   "outputs": [],
   "source": [
    "import pandas as pd\n",
    "from IPython.display import display\n",
    "import numpy as np\n",
    "from sklearn.model_selection import train_test_split\n",
    "from sklearn.tree import DecisionTreeClassifier\n",
    "from sklearn.metrics import accuracy_score, f1_score\n",
    "from sklearn.neighbors import KNeighborsClassifier\n",
    "from sklearn.ensemble import GradientBoostingClassifier\n",
    "np.random.seed(903949505)\n",
    "pd.set_option('display.precision', 2)\n",
    "pd.set_option('display.max_columns', None)\n",
    "pd.set_option('display.max_rows', 30)"
   ]
  },
  {
   "cell_type": "code",
   "execution_count": 6,
   "id": "3cee023e",
   "metadata": {},
   "outputs": [],
   "source": [
    "class color:\n",
    "    PURPLE = '\\033[95m'\n",
    "    CYAN = '\\033[96m'\n",
    "    DARKCYAN = '\\033[36m'\n",
    "    BLUE = '\\033[94m'\n",
    "    GREEN = '\\033[92m'\n",
    "    YELLOW = '\\033[93m'\n",
    "    RED = '\\033[91m'\n",
    "    BOLD = '\\033[1m'\n",
    "    UNDERLINE = '\\033[4m'\n",
    "    WARNING = '\\033[93m'\n",
    "    FAIL = '\\033[91m'\n",
    "    ENDC = '\\033[0m'\n",
    "    END = '\\033[0m'"
   ]
  },
  {
   "cell_type": "code",
   "execution_count": 19,
   "id": "4df9c660",
   "metadata": {},
   "outputs": [],
   "source": [
    "def eda(batmobile):\n",
    "    print(color.BOLD + color.UNDERLINE + color.GREEN + \"Shape\" + color.END)\n",
    "    print(\"Number of columns are \" + color.BOLD + str(batmobile.shape[0]) + color.END + \" and number of rows are \" + color.BOLD + str(batmobile.shape[1]) + color.END + \"\\n\")\n",
    "    print(color.BOLD + color.UNDERLINE + color.PURPLE + \"Data types\" + color.END)\n",
    "    display(batmobile.dtypes)\n",
    "    print(color.BOLD + color.UNDERLINE + color.DARKCYAN + \"Sample rows - Top 5\" + color.END)\n",
    "    display(batmobile.head())\n",
    "    print(\"\\n\" + \"\\n\" + color.BOLD + color.UNDERLINE + color.WARNING + \"EDA Statistics\" + color.END)\n",
    "    display(batmobile.describe())\n",
    "    nan_count = batmobile.isna().sum()\n",
    "    print(\"\\n\" + \"\\n\" + color.BOLD + color.UNDERLINE + color.RED + \"Missing values\" + color.END)\n",
    "    display(nan_count[nan_count > 0])\n",
    "    print(\"\\n\" + \"\\n\" + color.BOLD + color.UNDERLINE + color.BLUE + \"Count of Outliers\" + color.END)\n",
    "    Q1 = batmobile.quantile(0.25)\n",
    "    Q3 = batmobile.quantile(0.75)\n",
    "    IQR = Q3 - Q1\n",
    "    Outliers = ((batmobile < (Q1 - 3 * IQR)) | (batmobile > (Q3 + 3 * IQR))).sum()\n",
    "    display(Outliers[Outliers>0])"
   ]
  },
  {
   "cell_type": "code",
   "execution_count": 14,
   "id": "398597ef",
   "metadata": {},
   "outputs": [],
   "source": [
    "#split train and test dataset using sklearn\n",
    "def train_test(vegito):\n",
    "    goku, vegita = train_test_split(vegito, test_size=0.2, random_state=903949505)\n",
    "    return goku, vegita"
   ]
  },
  {
   "cell_type": "code",
   "execution_count": 24,
   "id": "607c1403",
   "metadata": {},
   "outputs": [],
   "source": [
    "#stratified sampling in sklearn\n",
    "def stratified_sampling(vegito, target, size = 0.4, OOT = 0.5, seed = 903949505):\n",
    "    \n",
    "    goku, vegita = train_test_split(vegito, test_size=size, stratify=vegito[target], random_state=seed)\n",
    "    vegita, cell = train_test_split(vegita, test_size=OOT, stratify=vegita[target], random_state=seed)\n",
    "    print(color.BOLD + color.UNDERLINE + color.DARKCYAN + \"Original distribution\" + color.END)\n",
    "    c = vegito[target].value_counts(normalize=False)\n",
    "    p = vegito[target].value_counts(normalize=True)*100\n",
    "    display(pd.concat([c,p], axis=1, keys=['counts', '%']))\n",
    "    print(\"\\n\" + \"\\n\" + color.BOLD + color.UNDERLINE + color.WARNING + \"Train distribution\" + color.END)\n",
    "    c = goku[target].value_counts(normalize=False)\n",
    "    p = goku[target].value_counts(normalize=True)*100\n",
    "    display(pd.concat([c,p], axis=1, keys=['counts', '%']))\n",
    "    print(\"\\n\" + \"\\n\" + color.BOLD + color.UNDERLINE + color.RED + \"Test distribution\" + color.END)\n",
    "    c = vegita[target].value_counts(normalize=False)\n",
    "    p = vegita[target].value_counts(normalize=True)*100\n",
    "    display(pd.concat([c,p], axis=1, keys=['counts', '%']))\n",
    "    print(\"\\n\" + \"\\n\" + color.BOLD + color.UNDERLINE + color.RED + \"OOT distribution\" + color.END)\n",
    "    c = cell[target].value_counts(normalize=False)\n",
    "    p = cell[target].value_counts(normalize=True)*100\n",
    "    display(pd.concat([c,p], axis=1, keys=['counts', '%']))\n",
    "    \n",
    "    #split goku, vegita and cell by target variable to make depent and indepent data seperately\n",
    "    goku_X = goku.drop(target, axis=1)\n",
    "    vegita_X = vegita.drop(target, axis=1)\n",
    "    cell_X = cell.drop(target, axis=1)\n",
    "    goku_y = pd.DataFrame(goku[target])\n",
    "    vegita_y = pd.DataFrame(vegita[target])\n",
    "    cell_y = pd.DataFrame(cell[target])\n",
    "    \n",
    "    #return goku_X, goku_y, vegita_X, vegita_y\n",
    "    print(\"\\n\" + \"\\n\" + color.BOLD + color.UNDERLINE + color.BLUE + \"Train_x shape\" + color.END)\n",
    "    print(\"Number of columns are \" + color.BOLD + str(goku_X.shape[0]) + color.END + \" and number of rows are \" + color.BOLD + str(goku_X.shape[1]) + color.END)\n",
    "    display(goku_X.head())\n",
    "    print(\"\\n\" + \"\\n\" + color.BOLD + color.UNDERLINE + color.BLUE + \"Train_y shape\" + color.END)\n",
    "    print(\"Number of columns are \" + color.BOLD + str(goku_y.shape[0]) + color.END + \" and number of rows are \" + color.BOLD + str(goku_y.shape[1]) + color.END)\n",
    "    display(goku_y.head())\n",
    "    print(\"\\n\" + \"\\n\" + color.BOLD + color.UNDERLINE + color.BLUE + \"Train_x shape\" + color.END)\n",
    "    print(\"Number of columns are \" + color.BOLD + str(vegita_X.shape[0]) + color.END + \" and number of rows are \" + color.BOLD + str(vegita_X.shape[1]) + color.END)\n",
    "    display(vegita_X.head())\n",
    "    print(\"\\n\" + \"\\n\" + color.BOLD + color.UNDERLINE + color.BLUE + \"Train_y shape\" + color.END)\n",
    "    print(\"Number of columns are \" + color.BOLD + str(vegita_y.shape[0]) + color.END + \" and number of rows are \" + color.BOLD + str(vegita_y.shape[1]) + color.END)\n",
    "    display(vegita_y.head())\n",
    "    print(\"\\n\" + \"\\n\" + color.BOLD + color.UNDERLINE + color.BLUE + \"OOT_x shape\" + color.END)\n",
    "    print(\"Number of columns are \" + color.BOLD + str(cell_X.shape[0]) + color.END + \" and number of rows are \" + color.BOLD + str(cell_X.shape[1]) + color.END)\n",
    "    display(cell_X.head())\n",
    "    print(\"\\n\" + \"\\n\" + color.BOLD + color.UNDERLINE + color.BLUE + \"OOT_y shape\" + color.END)\n",
    "    print(\"Number of columns are \" + color.BOLD + str(cell_y.shape[0]) + color.END + \" and number of rows are \" + color.BOLD + str(cell_y.shape[1]) + color.END)\n",
    "    display(cell_y.head())\n",
    "    return goku_X, goku_y, vegita_X, vegita_y, cell_X, cell_y"
   ]
  },
  {
   "cell_type": "code",
   "execution_count": 1,
   "id": "e4cccfda",
   "metadata": {},
   "outputs": [],
   "source": [
    "#send train and test data in sklearn decision tree model with min_samples_leaf, and min_samples_split \n",
    "def decision_tree(X, Y, criterion= 'gini', max_depth=None, min_samples_leaf=1, min_samples_split=2, random_state=903949505):\n",
    "    model = DecisionTreeClassifier(random_state=random_state, max_depth=max_depth, min_samples_leaf=min_samples_leaf, min_samples_split=min_samples_split)\n",
    "    model.fit(X, Y)\n",
    "    return model"
   ]
  },
  {
   "cell_type": "code",
   "execution_count": 2,
   "id": "24d22cef",
   "metadata": {},
   "outputs": [],
   "source": [
    "#predict using decision tree from sklearn and calculate accuracy and F1 score\n",
    "def predict(model, X, Y):\n",
    "    predictions = model.predict(X)\n",
    "    predictions = pd.DataFrame(predictions, index=X.index)\n",
    "    accuracy = accuracy_score(Y, predictions)\n",
    "    f1 = f1_score(Y, predictions)\n",
    "    print(f\"Accuracy: {accuracy}\")\n",
    "    print(f\"F1 Score: {f1}\")\n",
    "    return predictions, accuracy, f1"
   ]
  },
  {
   "cell_type": "code",
   "execution_count": null,
   "id": "9033acc0",
   "metadata": {},
   "outputs": [],
   "source": [
    "#Build knn on X and Y with distnace and n_neighbors\n",
    "def knn(X, Y, distance='euclidean', n_neighbors=5):\n",
    "    model = KNeighborsClassifier(n_neighbors=n_neighbors, metric=distance)\n",
    "    model.fit(X, Y)\n",
    "    return model"
   ]
  },
  {
   "cell_type": "code",
   "execution_count": null,
   "id": "d0685bd4",
   "metadata": {},
   "outputs": [],
   "source": [
    "#Build a gradient boosting from sklearn\n",
    "def gradient_boosting(X, Y, learning_rate=0.1, n_estimators=10000, subsample=1.0, max_depth=6):\n",
    "    model = GradientBoostingClassifier(learning_rate=learning_rate, n_estimators=n_estimators, subsample=subsample, max_depth=max_depth)\n",
    "    model.fit(X, Y)\n",
    "    return model"
   ]
  },
  {
   "cell_type": "code",
   "execution_count": null,
   "id": "8fed8dc7",
   "metadata": {},
   "outputs": [],
   "source": [
    "import xgboost as xgb\n",
    "def xgboost(X, Y, learning_rate=0.1, n_estimators=10000, subsample=1.0, max_depth=6):\n",
    "    xgb_model = xgb.XGBClassifier(objective=\"binary:logistic\", random_state=903949505, learning_rate=learning_rate, n_estimators=n_estimators, subsample=subsample, max_depth=max_depth, nthread=-1)\n",
    "    xgb_model.fit(X, Y)\n",
    "    return xgb_model"
   ]
  }
 ],
 "metadata": {
  "kernelspec": {
   "display_name": "Python 3",
   "language": "python",
   "name": "python3"
  },
  "language_info": {
   "codemirror_mode": {
    "name": "ipython",
    "version": 3
   },
   "file_extension": ".py",
   "mimetype": "text/x-python",
   "name": "python",
   "nbconvert_exporter": "python",
   "pygments_lexer": "ipython3",
   "version": "3.6.13"
  }
 },
 "nbformat": 4,
 "nbformat_minor": 5
}
