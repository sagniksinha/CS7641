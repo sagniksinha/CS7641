{
 "cells": [
  {
   "cell_type": "code",
   "execution_count": 3,
   "id": "c2d647de",
   "metadata": {},
   "outputs": [],
   "source": [
    "import pandas as pd\n",
    "import random\n",
    "random.seed(3)"
   ]
  },
  {
   "cell_type": "code",
   "execution_count": 2,
   "id": "efa9b68b",
   "metadata": {},
   "outputs": [],
   "source": [
    "#import file from C:\\Users\\sagni\\Documents\\Personal Files\\CS7641\\CS7641\\Data\\Bank_churn\n",
    "data = pd.read_csv(\"C:/Users/sagni/Documents/Personal Files/CS7641/CS7641/Data/Bank_churn/train.csv\")"
   ]
  },
  {
   "cell_type": "code",
   "execution_count": null,
   "id": "2d64e6bc",
   "metadata": {},
   "outputs": [],
   "source": []
  }
 ],
 "metadata": {
  "kernelspec": {
   "display_name": "Python 3",
   "language": "python",
   "name": "python3"
  },
  "language_info": {
   "codemirror_mode": {
    "name": "ipython",
    "version": 3
   },
   "file_extension": ".py",
   "mimetype": "text/x-python",
   "name": "python",
   "nbconvert_exporter": "python",
   "pygments_lexer": "ipython3",
   "version": "3.6.13"
  }
 },
 "nbformat": 4,
 "nbformat_minor": 5
}
